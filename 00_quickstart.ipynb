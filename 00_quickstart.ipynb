{
 "cells": [
  {
   "cell_type": "markdown",
   "metadata": {},
   "source": [
    "# PyTorch quickstart\n",
    "\n",
    "## 1. 导入相关工具\n",
    "\n",
    "`torch.utils.data.Dataset`：用于存储数据集，包括训练样本以及对应的label\n",
    "\n",
    "`torch.utils.data.DotaLoader`：用于生成数据集的可迭代对象"
   ]
  },
  {
   "cell_type": "code",
   "execution_count": 1,
   "metadata": {},
   "outputs": [],
   "source": [
    "import torch\n",
    "from torch import nn\n",
    "from torch.utils.data import DataLoader\n",
    "from torchvision import datasets\n",
    "from torchvision.transforms import ToTensor, Lambda, Compose\n",
    "import matplotlib.pyplot as plt"
   ]
  },
  {
   "cell_type": "markdown",
   "metadata": {},
   "source": [
    "## 2. 载入数据集\n",
    "\n",
    "PyTorch提供了许多与AI相关领域的工具库，例如[TorchText](https://pytorch.org/text/stable/index.html), [TorchVision](https://pytorch.org/vision/stable/index.html), and [TorchAudio](https://pytorch.org/audio/stable/index.html), 并包含了一些常用的数据集。\n",
    "\n",
    "在torchvision中，包含了常用的图像任务数据集，例如CIFAR，COCO等，完整列表：https://pytorch.org/docs/stable/torchvision/datasets.html\n",
    "\n",
    "在quickstart教程中，使用的是FashionMNIST dataset。每个torchvision的数据集都包含以下两个参数：\n",
    "- `transform`: 改变训练样本\n",
    "- `target_transform`: 改变label\n"
   ]
  },
  {
   "cell_type": "code",
   "execution_count": 2,
   "metadata": {},
   "outputs": [],
   "source": [
    "training_data = datasets.FashionMNIST(\n",
    "    root=\"data\",\n",
    "    train=True,\n",
    "    download=True,\n",
    "    transform=ToTensor(),\n",
    ")\n",
    "\n",
    "# Download test data from open datasets.\n",
    "test_data = datasets.FashionMNIST(\n",
    "    root=\"data\",\n",
    "    train=False,\n",
    "    download=True,\n",
    "    transform=ToTensor(),\n",
    ")"
   ]
  },
  {
   "cell_type": "markdown",
   "metadata": {},
   "source": [
    "`torchvision.datasets`是继承自`torch.utils.data.Dataset`的数据集实现，要实现数据集加载，还需要将`torch.utils.data.Dataset`的数据集实例作为参数传入`torch.utils.data.DataLoader`，`DataLoader`是可用于训练过程的可迭代对象："
   ]
  },
  {
   "cell_type": "code",
   "execution_count": 3,
   "metadata": {},
   "outputs": [
    {
     "name": "stdout",
     "output_type": "stream",
     "text": [
      "torch.Size([64, 1, 28, 28])\n",
      "torch.Size([64])\n"
     ]
    }
   ],
   "source": [
    "batch_size = 64\n",
    "\n",
    "train_dataloader = DataLoader(training_data, batch_size=batch_size)\n",
    "test_dataloader = DataLoader(test_data, batch_size=batch_size)\n",
    "\n",
    "for X, y in train_dataloader:\n",
    "    print(X.shape)\n",
    "    print(y.shape)\n",
    "    break"
   ]
  },
  {
   "cell_type": "markdown",
   "metadata": {},
   "source": [
    "## 3. 模型搭建"
   ]
  },
  {
   "cell_type": "code",
   "execution_count": 4,
   "metadata": {},
   "outputs": [
    {
     "name": "stdout",
     "output_type": "stream",
     "text": [
      "using cuda device.\n",
      "MLP(\n",
      "  (flatten): Flatten(start_dim=1, end_dim=-1)\n",
      "  (linear_relu): Sequential(\n",
      "    (0): Linear(in_features=784, out_features=512, bias=True)\n",
      "    (1): ReLU()\n",
      "    (2): Linear(in_features=512, out_features=512, bias=True)\n",
      "    (3): ReLU()\n",
      "    (4): Linear(in_features=512, out_features=10, bias=True)\n",
      "    (5): ReLU()\n",
      "  )\n",
      ")\n"
     ]
    }
   ],
   "source": [
    "device = 'cuda' if torch.cuda.is_available() else 'cpu'\n",
    "print('using {} device.'.format(device))\n",
    "\n",
    "# 定义一个多层感知机\n",
    "class MLP(nn.Module):\n",
    "    def __init__(self):\n",
    "        super(MLP, self).__init__()\n",
    "        self.flatten = nn.Flatten()\n",
    "        self.linear_relu = nn.Sequential(\n",
    "            nn.Linear(28*28, 512), \n",
    "            nn.ReLU(),\n",
    "            nn.Linear(512, 512), \n",
    "            nn.ReLU(),\n",
    "            nn.Linear(512, 10), \n",
    "            nn.ReLU()\n",
    "        )\n",
    "    def forward(self, x):\n",
    "        x = self.flatten(x)\n",
    "        output = self.linear_relu(x)\n",
    "        return output\n",
    "\n",
    "mlp = MLP().to(device)\n",
    "print(mlp)"
   ]
  },
  {
   "cell_type": "markdown",
   "metadata": {},
   "source": [
    "## 4. 定义优化器、损失函数、模型训练、模型测试\n",
    "\n",
    "在模型的训练过程中，需要循环读取**数据集**，使用**模型**预测训练样本的结果，根据label和**损失函数**计算loss，并使用**优化器**更新模型参数，因此训练函数应传入一下四部分参数：\n",
    "- dataloader\n",
    "- model\n",
    "- loss function\n",
    "- optimizer"
   ]
  },
  {
   "cell_type": "code",
   "execution_count": 5,
   "metadata": {},
   "outputs": [],
   "source": [
    "loss_fn= nn.CrossEntropyLoss()\n",
    "optimizer = torch.optim.SGD(mlp.parameters(), lr = 1e-3)\n",
    "\n",
    "def train(dataloader, model, loss_fn, optimizer):\n",
    "    dataset_size = len(dataloader.dataset)\n",
    "    \n",
    "    for batch, (X, y) in enumerate(dataloader):\n",
    "        X, y = X.to(device), y.to(device)\n",
    "        \n",
    "        predict = model(X)\n",
    "        loss = loss_fn(predict, y)\n",
    "        \n",
    "        optimizer.zero_grad()\n",
    "        loss.backward()\n",
    "        optimizer.step()\n",
    "        \n",
    "        if batch % 100 == 0:\n",
    "            loss, current = loss.item(), batch*len(X)\n",
    "            print(f\"loss: {loss:>7f}  [{current:>5d}/{dataset_size:>5d}]\")"
   ]
  },
  {
   "cell_type": "markdown",
   "metadata": {},
   "source": [
    "在测试函数中，需要对测试集中的测试样本预测输出，同时计算精度，平均误差等指标，评估模型性能。"
   ]
  },
  {
   "cell_type": "code",
   "execution_count": 6,
   "metadata": {},
   "outputs": [],
   "source": [
    "def test(dataloader, model):\n",
    "    size = len(dataloader.dataset)\n",
    "    model.eval()\n",
    "    test_loss, correct = 0, 0\n",
    "    with torch.no_grad():\n",
    "        for X, y in dataloader:\n",
    "            X, y = X.to(device), y.to(device)\n",
    "            pred = model(X)\n",
    "            test_loss += loss_fn(pred, y).item()\n",
    "            correct += (pred.argmax(1) == y).type(torch.float).sum().item()\n",
    "    test_loss /= size\n",
    "    correct /= size\n",
    "    print(f\"Test error:\\n Accuracy: {100*correct:>0.1f}%, Avg loss:{test_loss:>8f} \\n\")"
   ]
  },
  {
   "cell_type": "code",
   "execution_count": 7,
   "metadata": {
    "tags": []
   },
   "outputs": [
    {
     "name": "stdout",
     "output_type": "stream",
     "text": [
      "Epoch 1\n",
      "-------------------------------\n",
      "loss: 2.296082  [    0/60000]\n",
      "loss: 2.296277  [ 6400/60000]\n",
      "loss: 2.293954  [12800/60000]\n",
      "loss: 2.284916  [19200/60000]\n",
      "loss: 2.266133  [25600/60000]\n",
      "loss: 2.262897  [32000/60000]\n",
      "loss: 2.255977  [38400/60000]\n",
      "loss: 2.255064  [44800/60000]\n",
      "loss: 2.234553  [51200/60000]\n",
      "loss: 2.212771  [57600/60000]\n",
      "Test error:\n",
      " Accuracy: 46.4%, Avg loss:0.034904 \n",
      "\n",
      "Epoch 2\n",
      "-------------------------------\n",
      "loss: 2.244244  [    0/60000]\n",
      "loss: 2.246338  [ 6400/60000]\n",
      "loss: 2.231974  [12800/60000]\n",
      "loss: 2.204432  [19200/60000]\n",
      "loss: 2.182096  [25600/60000]\n",
      "loss: 2.182419  [32000/60000]\n",
      "loss: 2.164622  [38400/60000]\n",
      "loss: 2.169397  [44800/60000]\n",
      "loss: 2.139459  [51200/60000]\n",
      "loss: 2.088457  [57600/60000]\n",
      "Test error:\n",
      " Accuracy: 47.7%, Avg loss:0.033175 \n",
      "\n",
      "Epoch 3\n",
      "-------------------------------\n",
      "loss: 2.172456  [    0/60000]\n",
      "loss: 2.168880  [ 6400/60000]\n",
      "loss: 2.144436  [12800/60000]\n",
      "loss: 2.080201  [19200/60000]\n",
      "loss: 2.050903  [25600/60000]\n",
      "loss: 2.071558  [32000/60000]\n",
      "loss: 2.018541  [38400/60000]\n",
      "loss: 2.043326  [44800/60000]\n",
      "loss: 2.000210  [51200/60000]\n",
      "loss: 1.906155  [57600/60000]\n",
      "Test error:\n",
      " Accuracy: 48.5%, Avg loss:0.030736 \n",
      "\n",
      "Epoch 4\n",
      "-------------------------------\n",
      "loss: 2.078616  [    0/60000]\n",
      "loss: 2.063857  [ 6400/60000]\n",
      "loss: 2.035206  [12800/60000]\n",
      "loss: 1.915979  [19200/60000]\n",
      "loss: 1.890907  [25600/60000]\n",
      "loss: 1.943614  [32000/60000]\n",
      "loss: 1.844718  [38400/60000]\n",
      "loss: 1.905232  [44800/60000]\n",
      "loss: 1.851125  [51200/60000]\n",
      "loss: 1.720340  [57600/60000]\n",
      "Test error:\n",
      " Accuracy: 51.4%, Avg loss:0.028350 \n",
      "\n",
      "Epoch 5\n",
      "-------------------------------\n",
      "loss: 1.982533  [    0/60000]\n",
      "loss: 1.960353  [ 6400/60000]\n",
      "loss: 1.934504  [12800/60000]\n",
      "loss: 1.774588  [19200/60000]\n",
      "loss: 1.751623  [25600/60000]\n",
      "loss: 1.830284  [32000/60000]\n",
      "loss: 1.704190  [38400/60000]\n",
      "loss: 1.796294  [44800/60000]\n",
      "loss: 1.728087  [51200/60000]\n",
      "loss: 1.583132  [57600/60000]\n",
      "Test error:\n",
      " Accuracy: 52.7%, Avg loss:0.026489 \n",
      "\n",
      "Done!\n"
     ]
    }
   ],
   "source": [
    "epochs = 5\n",
    "for t in range(epochs):\n",
    "    print(f\"Epoch {t+1}\\n-------------------------------\")\n",
    "    train(train_dataloader, mlp, loss_fn, optimizer)\n",
    "    test(test_dataloader, mlp)\n",
    "print(\"Done!\")"
   ]
  },
  {
   "cell_type": "markdown",
   "metadata": {},
   "source": [
    "## 5. 模型保存"
   ]
  },
  {
   "cell_type": "code",
   "execution_count": 8,
   "metadata": {},
   "outputs": [],
   "source": [
    "import os\n",
    "if not os.path.exists('checkpoints'):\n",
    "    os.mkdir('checkpoints')\n",
    "\n",
    "torch.save(mlp.state_dict(), 'checkpoints/00_mlp.pth')"
   ]
  },
  {
   "cell_type": "markdown",
   "metadata": {},
   "source": [
    "## 6. 模型读取与测试"
   ]
  },
  {
   "cell_type": "code",
   "execution_count": 9,
   "metadata": {},
   "outputs": [
    {
     "name": "stdout",
     "output_type": "stream",
     "text": [
      "predict class: Sneaker. Label: Ankle boot\n"
     ]
    }
   ],
   "source": [
    "mlp = MLP()\n",
    "mlp.load_state_dict(torch.load('checkpoints/00_mlp.pth'))\n",
    "\n",
    "classes = [\n",
    "    \"T-shirt/top\",\n",
    "    \"Trouser\",\n",
    "    \"Pullover\",\n",
    "    \"Dress\",\n",
    "    \"Coat\",\n",
    "    \"Sandal\",\n",
    "    \"Shirt\",\n",
    "    \"Sneaker\",\n",
    "    \"Bag\",\n",
    "    \"Ankle boot\",\n",
    "]\n",
    "\n",
    "mlp.eval()\n",
    "\n",
    "x, y = test_data[0][0], test_data[0][1]\n",
    "\n",
    "pred = mlp(x)\n",
    "\n",
    "pred, y = classes[pred.argmax(1).item()], classes[y]\n",
    "\n",
    "print('predict class: {}.'.format(pred), 'Label: {}'.format(y))\n"
   ]
  }
 ],
 "metadata": {
  "kernelspec": {
   "display_name": "Python 3",
   "language": "python",
   "name": "python3"
  },
  "language_info": {
   "codemirror_mode": {
    "name": "ipython",
    "version": 3
   },
   "file_extension": ".py",
   "mimetype": "text/x-python",
   "name": "python",
   "nbconvert_exporter": "python",
   "pygments_lexer": "ipython3",
   "version": "3.8.5"
  }
 },
 "nbformat": 4,
 "nbformat_minor": 5
}
