{
 "cells": [
  {
   "cell_type": "markdown",
   "id": "applied-obligation",
   "metadata": {},
   "source": [
    "# PyTorch quickstart\n",
    "\n",
    "## 1. 导入相关工具\n",
    "\n",
    "`torch.utils.data.Dataset`：用于存储数据集，包括训练样本以及对应的label\n",
    "\n",
    "`torch.utils.data.DotaLoader`：用于生成数据集的可迭代对象"
   ]
  },
  {
   "cell_type": "code",
   "execution_count": 2,
   "id": "experimental-emerald",
   "metadata": {},
   "outputs": [],
   "source": [
    "import torch\n",
    "from torch import nn\n",
    "from torch.utils.data import DataLoader\n",
    "from torchvision import datasets\n",
    "from torchvision.transforms import ToTensor, Lambda, Compose\n",
    "import matplotlib.pyplot as plt"
   ]
  },
  {
   "cell_type": "markdown",
   "id": "innovative-showcase",
   "metadata": {},
   "source": [
    "## 2. 载入数据集\n",
    "\n",
    "PyTorch提供了许多与AI相关领域的工具库，例如[TorchText](https://pytorch.org/text/stable/index.html), [TorchVision](https://pytorch.org/vision/stable/index.html), and [TorchAudio](https://pytorch.org/audio/stable/index.html), 并包含了一些常用的数据集。\n",
    "\n",
    "在torchvision中，包含了常用的图像任务数据集，例如CIFAR，COCO等，完整列表：https://pytorch.org/docs/stable/torchvision/datasets.html\n",
    "\n",
    "在quickstart教程中，使用的是FashionMNIST dataset。每个torchvision的数据集都包含以下两个参数：\n",
    "- `transform`: 改变训练样本\n",
    "- `target_transform`: 改变label\n"
   ]
  },
  {
   "cell_type": "code",
   "execution_count": 4,
   "id": "discrete-theater",
   "metadata": {},
   "outputs": [],
   "source": [
    "training_data = datasets.FashionMNIST(\n",
    "    root=\"data\",\n",
    "    train=True,\n",
    "    download=True,\n",
    "    transform=ToTensor(),\n",
    ")\n",
    "\n",
    "# Download test data from open datasets.\n",
    "test_data = datasets.FashionMNIST(\n",
    "    root=\"data\",\n",
    "    train=False,\n",
    "    download=True,\n",
    "    transform=ToTensor(),\n",
    ")"
   ]
  },
  {
   "cell_type": "markdown",
   "id": "steady-arthritis",
   "metadata": {},
   "source": [
    "`torchvision.datasets`是继承自`torch.utils.data.Dataset`的数据集实现，要实现数据集加载，还需要将`torch.utils.data.Dataset`的数据集实例作为参数传入`torch.utils.data.DataLoader`，`DataLoader`是可用于训练过程的可迭代对象："
   ]
  },
  {
   "cell_type": "code",
   "execution_count": 8,
   "id": "confidential-impact",
   "metadata": {},
   "outputs": [
    {
     "name": "stdout",
     "output_type": "stream",
     "text": [
      "torch.Size([64, 1, 28, 28])\n",
      "torch.Size([64])\n"
     ]
    }
   ],
   "source": [
    "batch_size = 64\n",
    "\n",
    "train_dataloader = DataLoader(training_data, batch_size=batch_size)\n",
    "test_dataloader = DataLoader(test_data, batch_size=batch_size)\n",
    "\n",
    "for X, y in train_dataloader:\n",
    "    print(X.shape)\n",
    "    print(y.shape)\n",
    "    break"
   ]
  },
  {
   "cell_type": "markdown",
   "id": "spiritual-chain",
   "metadata": {},
   "source": [
    "## 3. 模型搭建"
   ]
  },
  {
   "cell_type": "code",
   "execution_count": 10,
   "id": "frequent-runner",
   "metadata": {},
   "outputs": [
    {
     "name": "stdout",
     "output_type": "stream",
     "text": [
      "using cuda device.\n",
      "MLP(\n",
      "  (flatten): Flatten()\n",
      "  (linear_relu): Sequential(\n",
      "    (0): Linear(in_features=784, out_features=512, bias=True)\n",
      "    (1): ReLU()\n",
      "    (2): Linear(in_features=512, out_features=512, bias=True)\n",
      "    (3): ReLU()\n",
      "    (4): Linear(in_features=512, out_features=10, bias=True)\n",
      "    (5): ReLU()\n",
      "  )\n",
      ")\n"
     ]
    }
   ],
   "source": [
    "device = 'cuda' if torch.cuda.is_available() else 'cpu'\n",
    "print('using {} device.'.format(device))\n",
    "\n",
    "# 定义一个多层感知机\n",
    "class MLP(nn.Module):\n",
    "    def __init__(self):\n",
    "        super(MLP, self).__init__()\n",
    "        self.flatten = nn.Flatten()\n",
    "        self.linear_relu = nn.Sequential(\n",
    "            nn.Linear(28*28, 512), \n",
    "            nn.ReLU(),\n",
    "            nn.Linear(512, 512), \n",
    "            nn.ReLU(),\n",
    "            nn.Linear(512, 10), \n",
    "            nn.ReLU()\n",
    "        )\n",
    "    def forward(self, x):\n",
    "        x = self.flatten(x)\n",
    "        output = self.linear_relu(x)\n",
    "        return output\n",
    "\n",
    "mlp = MLP().to(device)\n",
    "print(mlp)"
   ]
  },
  {
   "cell_type": "markdown",
   "id": "vietnamese-atlanta",
   "metadata": {},
   "source": [
    "## 4. 定义优化器、损失函数、模型训练、模型测试\n",
    "\n",
    "在模型的训练过程中，需要循环读取**数据集**，使用**模型**预测训练样本的结果，根据label和**损失函数**计算loss，并使用**优化器**更新模型参数，因此训练函数应传入一下四部分参数：\n",
    "- dataloader\n",
    "- model\n",
    "- loss function\n",
    "- optimizer"
   ]
  },
  {
   "cell_type": "code",
   "execution_count": 20,
   "id": "expanded-transportation",
   "metadata": {},
   "outputs": [],
   "source": [
    "loss_fn= nn.CrossEntropyLoss()\n",
    "optimizer = torch.optim.SGD(mlp.parameters(), lr = 1e-3)\n",
    "\n",
    "def train(dataloader, model, loss_fn, optimizer):\n",
    "    dataset_size = len(dataloader.dataset)\n",
    "    \n",
    "    for batch, (X, y) in enumerate(dataloader):\n",
    "        X, y = X.to(device), y.to(device)\n",
    "        \n",
    "        predict = model(X)\n",
    "        loss = loss_fn(predict, y)\n",
    "        \n",
    "        optimizer.zero_grad()\n",
    "        loss.backward()\n",
    "        optimizer.step()\n",
    "        \n",
    "        if batch % 100 == 0:\n",
    "            loss, current = loss.item(), batch*len(X)\n",
    "            print(f\"loss: {loss:>7f}  [{current:>5d}/{dataset_size:>5d}]\")"
   ]
  },
  {
   "cell_type": "markdown",
   "id": "fabulous-prayer",
   "metadata": {},
   "source": [
    "在测试函数中，需要对测试集中的测试样本预测输出，同时计算精度，平均误差等指标，评估模型性能。"
   ]
  },
  {
   "cell_type": "code",
   "execution_count": 26,
   "id": "dangerous-karen",
   "metadata": {},
   "outputs": [],
   "source": [
    "def test(dataloader, model):\n",
    "    size = len(dataloader.dataset)\n",
    "    model.eval()\n",
    "    test_loss, correct = 0, 0\n",
    "    with torch.no_grad():\n",
    "        for X, y in dataloader:\n",
    "            X, y = X.to(device), y.to(device)\n",
    "            pred = model(X)\n",
    "            test_loss += loss(pred, y).item()\n",
    "            correct += (pred.argmax(1) == y).type(torch.float).sum().item()\n",
    "    test_loss /= size\n",
    "    correct /= size\n",
    "    print(f\"Test error:\\n Accuracy: {100*correct:>0.1f}%, Avg loss:{test_loss:>8f} \\n\")"
   ]
  },
  {
   "cell_type": "code",
   "execution_count": 27,
   "id": "honey-burner",
   "metadata": {
    "tags": []
   },
   "outputs": [
    {
     "name": "stdout",
     "output_type": "stream",
     "text": [
      "Epoch 1\n",
      "-------------------------------\n",
      "loss: 1.373670  [    0/60000]\n",
      "loss: 1.505700  [ 6400/60000]\n",
      "loss: 1.397663  [12800/60000]\n",
      "loss: 1.602832  [19200/60000]\n",
      "loss: 1.335567  [25600/60000]\n",
      "loss: 1.394668  [32000/60000]\n",
      "loss: 1.277416  [38400/60000]\n",
      "loss: 1.252012  [44800/60000]\n",
      "loss: 1.326200  [51200/60000]\n",
      "loss: 1.435307  [57600/60000]\n",
      "Test error:\n",
      " Accuracy: 55.2%, Avg loss:0.022007 \n",
      "\n",
      "Epoch 2\n",
      "-------------------------------\n",
      "loss: 1.313377  [    0/60000]\n",
      "loss: 1.446247  [ 6400/60000]\n",
      "loss: 1.335440  [12800/60000]\n",
      "loss: 1.553099  [19200/60000]\n",
      "loss: 1.272557  [25600/60000]\n",
      "loss: 1.348485  [32000/60000]\n",
      "loss: 1.227384  [38400/60000]\n",
      "loss: 1.203458  [44800/60000]\n",
      "loss: 1.282182  [51200/60000]\n",
      "loss: 1.398004  [57600/60000]\n",
      "Test error:\n",
      " Accuracy: 56.1%, Avg loss:0.021313 \n",
      "\n",
      "Epoch 3\n",
      "-------------------------------\n",
      "loss: 1.267812  [    0/60000]\n",
      "loss: 1.401120  [ 6400/60000]\n",
      "loss: 1.287564  [12800/60000]\n",
      "loss: 1.512327  [19200/60000]\n",
      "loss: 1.226459  [25600/60000]\n",
      "loss: 1.313802  [32000/60000]\n",
      "loss: 1.190020  [38400/60000]\n",
      "loss: 1.165357  [44800/60000]\n",
      "loss: 1.247646  [51200/60000]\n",
      "loss: 1.370674  [57600/60000]\n",
      "Test error:\n",
      " Accuracy: 57.0%, Avg loss:0.020779 \n",
      "\n",
      "Epoch 4\n",
      "-------------------------------\n",
      "loss: 1.230350  [    0/60000]\n",
      "loss: 1.365591  [ 6400/60000]\n",
      "loss: 1.248949  [12800/60000]\n",
      "loss: 1.482080  [19200/60000]\n",
      "loss: 1.193184  [25600/60000]\n",
      "loss: 1.286640  [32000/60000]\n",
      "loss: 1.160165  [38400/60000]\n",
      "loss: 1.135694  [44800/60000]\n",
      "loss: 1.219059  [51200/60000]\n",
      "loss: 1.349385  [57600/60000]\n",
      "Test error:\n",
      " Accuracy: 58.0%, Avg loss:0.020355 \n",
      "\n",
      "Epoch 5\n",
      "-------------------------------\n",
      "loss: 1.198081  [    0/60000]\n",
      "loss: 1.336269  [ 6400/60000]\n",
      "loss: 1.216973  [12800/60000]\n",
      "loss: 1.458571  [19200/60000]\n",
      "loss: 1.168519  [25600/60000]\n",
      "loss: 1.264745  [32000/60000]\n",
      "loss: 1.134903  [38400/60000]\n",
      "loss: 1.111823  [44800/60000]\n",
      "loss: 1.194902  [51200/60000]\n",
      "loss: 1.332081  [57600/60000]\n",
      "Test error:\n",
      " Accuracy: 58.7%, Avg loss:0.020002 \n",
      "\n",
      "Done!\n"
     ]
    }
   ],
   "source": [
    "epochs = 5\n",
    "for t in range(epochs):\n",
    "    print(f\"Epoch {t+1}\\n-------------------------------\")\n",
    "    train(train_dataloader, mlp, loss_fn, optimizer)\n",
    "    test(test_dataloader, mlp)\n",
    "print(\"Done!\")"
   ]
  },
  {
   "cell_type": "markdown",
   "id": "disabled-dakota",
   "metadata": {},
   "source": [
    "## 5. 模型保存"
   ]
  },
  {
   "cell_type": "code",
   "execution_count": 50,
   "id": "manual-responsibility",
   "metadata": {},
   "outputs": [],
   "source": [
    "torch.save(mlp.state_dict(), 'checkpoints/00_mlp.pth')"
   ]
  },
  {
   "cell_type": "markdown",
   "id": "infectious-knowing",
   "metadata": {},
   "source": [
    "## 6. 模型读取与测试"
   ]
  },
  {
   "cell_type": "code",
   "execution_count": 58,
   "id": "parallel-fraud",
   "metadata": {},
   "outputs": [
    {
     "name": "stdout",
     "output_type": "stream",
     "text": [
      "predict class: Ankle boot. Label: Ankle boot\n"
     ]
    }
   ],
   "source": [
    "mlp = MLP()\n",
    "mlp.load_state_dict(torch.load('checkpoints/00_mlp.pth'))\n",
    "\n",
    "classes = [\n",
    "    \"T-shirt/top\",\n",
    "    \"Trouser\",\n",
    "    \"Pullover\",\n",
    "    \"Dress\",\n",
    "    \"Coat\",\n",
    "    \"Sandal\",\n",
    "    \"Shirt\",\n",
    "    \"Sneaker\",\n",
    "    \"Bag\",\n",
    "    \"Ankle boot\",\n",
    "]\n",
    "\n",
    "mlp.eval()\n",
    "\n",
    "x, y = test_data[0][0], test_data[0][1]\n",
    "\n",
    "pred = mlp(x)\n",
    "\n",
    "pred, y = classes[pred.argmax(1).item()], classes[y]\n",
    "\n",
    "print('predict class: {}.'.format(pred), 'Label: {}'.format(y))\n"
   ]
  }
 ],
 "metadata": {
  "kernelspec": {
   "display_name": "Python 3",
   "language": "python",
   "name": "python3"
  },
  "language_info": {
   "codemirror_mode": {
    "name": "ipython",
    "version": 3
   },
   "file_extension": ".py",
   "mimetype": "text/x-python",
   "name": "python",
   "nbconvert_exporter": "python",
   "pygments_lexer": "ipython3",
   "version": "3.7.10"
  }
 },
 "nbformat": 4,
 "nbformat_minor": 5
}
