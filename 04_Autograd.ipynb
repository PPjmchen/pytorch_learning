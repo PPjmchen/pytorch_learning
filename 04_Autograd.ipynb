{
 "cells": [
  {
   "cell_type": "markdown",
   "id": "second-cathedral",
   "metadata": {},
   "source": [
    "# 04. Automatic Differentiation with `torch.autograd`\n",
    "\n",
    "在训练神经网络时，最常用的算法就是反向传播，模型参数在给定超参下，根据损失函数的梯度进行调整。"
   ]
  }
 ],
 "metadata": {
  "kernelspec": {
   "display_name": "Python 3",
   "language": "python",
   "name": "python3"
  },
  "language_info": {
   "codemirror_mode": {
    "name": "ipython",
    "version": 3
   },
   "file_extension": ".py",
   "mimetype": "text/x-python",
   "name": "python",
   "nbconvert_exporter": "python",
   "pygments_lexer": "ipython3",
   "version": "3.8.8"
  }
 },
 "nbformat": 4,
 "nbformat_minor": 5
}
