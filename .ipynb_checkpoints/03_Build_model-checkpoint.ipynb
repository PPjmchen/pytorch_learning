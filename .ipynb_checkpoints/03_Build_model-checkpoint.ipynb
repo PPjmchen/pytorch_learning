{
 "cells": [
  {
   "cell_type": "markdown",
   "id": "generic-gentleman",
   "metadata": {},
   "source": [
    "# 03 Build The Neural Network\n",
    "\n",
    "在PyTorch中，`torch.nn`集成了大部分搭建神经网络所需要的工具，且所有的模块都继承自`nn.Module`。神经网络就是一个大的模块，里面集成了许多小的模块（layer），这样的嵌套结构能够轻松实现复杂的模型结构。\n",
    "\n",
    "以FashionMNIST为例，搭建神经网络用于分类："
   ]
  },
  {
   "cell_type": "code",
   "execution_count": 1,
   "id": "seventh-bermuda",
   "metadata": {},
   "outputs": [
    {
     "name": "stdout",
     "output_type": "stream",
     "text": [
      "Using cuda device!\n"
     ]
    }
   ],
   "source": [
    "import os\n",
    "import torch\n",
    "from torch import nn\n",
    "from torch.utils.data import DataLoader, Dataset\n",
    "from torchvision import datasets, transforms\n",
    "\n",
    "device = 'cuda' if torch.cuda.is_available() else 'cpu'\n",
    "\n",
    "print(f'Using {device} device!')"
   ]
  },
  {
   "cell_type": "code",
   "execution_count": 2,
   "id": "brilliant-space",
   "metadata": {},
   "outputs": [
    {
     "name": "stdout",
     "output_type": "stream",
     "text": [
      "NeuralNetwork(\n",
      "  (flatten): Flatten(start_dim=1, end_dim=-1)\n",
      "  (linear): Sequential(\n",
      "    (0): Linear(in_features=784, out_features=512, bias=True)\n",
      "    (1): ReLU()\n",
      "    (2): Linear(in_features=512, out_features=512, bias=True)\n",
      "    (3): ReLU()\n",
      "    (4): Linear(in_features=512, out_features=10, bias=True)\n",
      "  )\n",
      ")\n"
     ]
    }
   ],
   "source": [
    "# Define a linear network\n",
    "class NeuralNetwork(nn.Module):\n",
    "    def __init__(self, ):\n",
    "        super(NeuralNetwork, self).__init__()\n",
    "        self.flatten = nn.Flatten()\n",
    "        self.linear = nn.Sequential(\n",
    "            nn.Linear(28*28, 512), \n",
    "            nn.ReLU(),\n",
    "            nn.Linear(512, 512),\n",
    "            nn.ReLU(),\n",
    "            nn.Linear(512, 10))\n",
    "    def forward(self, x):\n",
    "        x = self.flatten(x)\n",
    "        x = self.linear(x)\n",
    "        return x\n",
    "\n",
    "model = NeuralNetwork().to(device)    \n",
    "print(model)"
   ]
  },
  {
   "cell_type": "markdown",
   "id": "professional-agenda",
   "metadata": {},
   "source": [
    "## `nn.Flatten()`\n",
    "\n",
    "`nn.Flatten()`用于将多维的张量拉伸成一维，**同时保留minibatch的维度**。"
   ]
  },
  {
   "cell_type": "code",
   "execution_count": 12,
   "id": "removed-miller",
   "metadata": {},
   "outputs": [
    {
     "name": "stdout",
     "output_type": "stream",
     "text": [
      "torch.Size([20, 2352])\n"
     ]
    }
   ],
   "source": [
    "# 以一个batch size为20的RGB图像为例\n",
    "data = torch.rand(20, 3, 28, 28)\n",
    "flatten_data = flatten_layer(data)\n",
    "print(flatten_data.shape)"
   ]
  },
  {
   "cell_type": "code",
   "execution_count": 13,
   "id": "unique-turkish",
   "metadata": {},
   "outputs": [
    {
     "name": "stdout",
     "output_type": "stream",
     "text": [
      "torch.Size([3, 784])\n"
     ]
    }
   ],
   "source": [
    "# 以一个batch size为3的黑白图像为例\n",
    "data = torch.rand(3, 28, 28)\n",
    "flatten_layer = nn.Flatten()\n",
    "flatten_data = flatten_layer(data)\n",
    "print(flatten_data.shape)"
   ]
  },
  {
   "cell_type": "markdown",
   "id": "premier-fence",
   "metadata": {},
   "source": [
    "## `nn.Linear`\n",
    "\n",
    "`nn.Linear`用于构建全连接层，定义时只需要给定输入和输出的维度，以batch形式进行数据输入输出。"
   ]
  },
  {
   "cell_type": "code",
   "execution_count": 14,
   "id": "robust-indian",
   "metadata": {},
   "outputs": [
    {
     "name": "stdout",
     "output_type": "stream",
     "text": [
      "torch.Size([3, 20])\n"
     ]
    }
   ],
   "source": [
    "layer1 = nn.Linear(in_features=28*28, out_features=20)\n",
    "hidden1 = layer1(flatten_data)\n",
    "print(hidden1.size())"
   ]
  },
  {
   "cell_type": "markdown",
   "id": "honest-reviewer",
   "metadata": {},
   "source": [
    "## nn.Softmax\n",
    "\n",
    "`nn.Softmax`将指定维度上的张量归一化到[0,1]之间"
   ]
  },
  {
   "cell_type": "code",
   "execution_count": 15,
   "id": "suburban-howard",
   "metadata": {},
   "outputs": [
    {
     "ename": "NameError",
     "evalue": "name 'sorfmax' is not defined",
     "output_type": "error",
     "traceback": [
      "\u001b[0;31m-\u001b[0m",
      "\u001b[0;31mNameError\u001b[0mTraceback (most recent call last)",
      "\u001b[0;32m<ipython-input-15-a96dad0593a4>\u001b[0m in \u001b[0;36m<module>\u001b[0;34m\u001b[0m\n\u001b[1;32m      1\u001b[0m \u001b[0msoftmax\u001b[0m \u001b[0;34m=\u001b[0m \u001b[0mnn\u001b[0m\u001b[0;34m.\u001b[0m\u001b[0mSoftmax\u001b[0m\u001b[0;34m(\u001b[0m\u001b[0mdim\u001b[0m\u001b[0;34m=\u001b[0m\u001b[0;36m1\u001b[0m\u001b[0;34m)\u001b[0m\u001b[0;34m\u001b[0m\u001b[0;34m\u001b[0m\u001b[0m\n\u001b[0;32m----> 2\u001b[0;31m \u001b[0mprint\u001b[0m\u001b[0;34m(\u001b[0m\u001b[0msorfmax\u001b[0m\u001b[0;34m(\u001b[0m\u001b[0mhidden1\u001b[0m\u001b[0;34m)\u001b[0m\u001b[0;34m.\u001b[0m\u001b[0mshape\u001b[0m\u001b[0;34m)\u001b[0m\u001b[0;34m\u001b[0m\u001b[0;34m\u001b[0m\u001b[0m\n\u001b[0m",
      "\u001b[0;31mNameError\u001b[0m: name 'sorfmax' is not defined"
     ]
    }
   ],
   "source": [
    "softmax = nn.Softmax(dim=1)\n",
    "print(softmax(hidden1).shape)"
   ]
  }
 ],
 "metadata": {
  "kernelspec": {
   "display_name": "Python 3",
   "language": "python",
   "name": "python3"
  },
  "language_info": {
   "codemirror_mode": {
    "name": "ipython",
    "version": 3
   },
   "file_extension": ".py",
   "mimetype": "text/x-python",
   "name": "python",
   "nbconvert_exporter": "python",
   "pygments_lexer": "ipython3",
   "version": "3.8.8"
  }
 },
 "nbformat": 4,
 "nbformat_minor": 5
}
