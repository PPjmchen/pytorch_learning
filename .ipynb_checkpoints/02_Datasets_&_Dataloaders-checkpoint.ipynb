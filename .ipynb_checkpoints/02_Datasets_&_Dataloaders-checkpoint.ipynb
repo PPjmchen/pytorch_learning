{
 "cells": [
  {
   "cell_type": "markdown",
   "id": "sealed-penetration",
   "metadata": {},
   "source": [
    "# Datasets & Dataloaders\n",
    "\n",
    "理想情况下，希望数据集代码与模型训练代码分离，以获得更好的可读性和模块化。在PyTorch中，提供了两个方法用于构建数据集：`torch.utils.data.Dataset`和`torch.utils.data.DotaLoader`。\n",
    "- `torch.utils.data.Dataset`中存放着所有的样本以及对应的label\n",
    "- `torch.utils.data.DataLoader`用于从dataset中迭代获取样本\n",
    "\n",
    "在PyTorch中，预先实现一些继承自`torch.utils.data.Dataset`的常用数据集，并提供了对特定数据的专用函数： [Image Datasets](https://pytorch.org/docs/stable/torchvision/datasets.html), [Text Datasets](https://pytorch.org/text/stable/datasets.html), and [Audio Datasets](https://pytorch.org/audio/stable/datasets.html)\n",
    "\n",
    "## 1. 数据集载入\n",
    "\n",
    "以[Fashion-MNIST](https://research.zalando.com/welcome/mission/research-projects/fashion-mnist/)为例，它包含60000个训练样本和10000个测试样本，每个样本由一个$28*28$的灰度图像和一个类别标签构成（共有10个类别）\n",
    "\n",
    "载入Fashion-MNIST需要一下4个参数:\n",
    "- `root` is the path where the train/test data is stored,\n",
    "- `train` specifies training or test dataset,\n",
    "- `download=True` downloads the data from the internet if it’s not available at root.\n",
    "- `transform` and `target_transform` specify the feature and label transformations"
   ]
  },
  {
   "cell_type": "code",
   "execution_count": 9,
   "id": "refined-wheel",
   "metadata": {},
   "outputs": [],
   "source": [
    "import torch\n",
    "from  torch.utils.data import Dataset\n",
    "from  torch.utils.data import DataLoader\n",
    "from torchvision import datasets\n",
    "from torchvision import transforms\n",
    "import matplotlib.pyplot as plt\n",
    "\n",
    "training_data = datasets.FashionMNIST(\n",
    "    root = 'data', \n",
    "    train = True, \n",
    "    download = False, \n",
    "    transform = transforms.ToTensor())\n",
    "\n",
    "testing_data = datasets.FashionMNIST(\n",
    "    root = 'data', \n",
    "    train = False, \n",
    "    download = False, \n",
    "    transform = transforms.ToTensor())"
   ]
  },
  {
   "cell_type": "markdown",
   "id": "fleet-kelly",
   "metadata": {},
   "source": [
    "`torch.utils.data.Dataset`对象可以根据索引获取特定的样本，其内部实现了`__getitem__()`方法。"
   ]
  },
  {
   "cell_type": "markdown",
   "id": "boolean-hunger",
   "metadata": {},
   "source": [
    "## 2. 数据集可视化"
   ]
  },
  {
   "cell_type": "code",
   "execution_count": 10,
   "id": "functioning-testament",
   "metadata": {},
   "outputs": [
    {
     "data": {
      "image/png": "[encoded data removed]",
      "text/plain": [
       "<Figure size 576x576 with 9 Axes>"
      ]
     },
     "metadata": {
      "needs_background": "light"
     },
     "output_type": "display_data"
    }
   ],
   "source": [
    "labels_map = {\n",
    "    0: \"T-Shirt\",\n",
    "    1: \"Trouser\",\n",
    "    2: \"Pullover\",\n",
    "    3: \"Dress\",\n",
    "    4: \"Coat\",\n",
    "    5: \"Sandal\",\n",
    "    6: \"Shirt\",\n",
    "    7: \"Sneaker\",\n",
    "    8: \"Bag\",\n",
    "    9: \"Ankle Boot\",\n",
    "}\n",
    "\n",
    "figure = plt.figure(figsize=(8, 8))\n",
    "cols, rows = 3, 3\n",
    "for i in range(1, cols * rows + 1):\n",
    "    sample_idx = torch.randint(len(training_data), size=(1,)).item()\n",
    "    img, label = training_data[sample_idx]\n",
    "    figure.add_subplot(rows, cols, i)\n",
    "    plt.title(labels_map[label])\n",
    "    plt.axis(\"off\")\n",
    "    plt.imshow(img.squeeze(), cmap=\"gray\")\n",
    "plt.show()"
   ]
  },
  {
   "cell_type": "markdown",
   "id": "musical-source",
   "metadata": {},
   "source": [
    "## 3. 自定义数据集\n",
    "\n",
    "自定义数据集需要继承自`torch.utils.data.Dataset`，并实现以下三个函数：\n",
    "- `__init__()`：声明数据集时调用，初始化数据集样本路径，以及样本预处理方法；\n",
    "- `__len__()`：应返回数据集的样本总数；\n",
    "- `__getitem__()`：__getitem__函数从给定索引idx的数据集中加载并返回一个样本。 根据索引，它标识图像的路径，使用read_image将其转换为张量，检索相应的标签，调用transform函数，然后返回张量图像 以及Python字典中的相应标签。"
   ]
  },
  {
   "cell_type": "code",
   "execution_count": 11,
   "id": "collectible-circumstances",
   "metadata": {},
   "outputs": [],
   "source": [
    "import os\n",
    "import pandas as pd\n",
    "from torchvision.io import read_image\n",
    "\n",
    "class CustomImageDataset(Dataset):\n",
    "    def __init__(self, annotations_file, img_dir, transform=None, target_transform=None):\n",
    "        self.img_labels = pd.read_csv(annotations_file)\n",
    "        self.img_dir = img_dir\n",
    "        self.transform = transform\n",
    "        self.target_transform = target_transform\n",
    "\n",
    "    def __len__(self):\n",
    "        return len(self.img_labels)\n",
    "\n",
    "    def __getitem__(self, idx):\n",
    "        img_path = os.path.join(self.img_dir, self.img_labels.iloc[idx, 0])\n",
    "        image = read_image(img_path)\n",
    "        label = self.img_labels.iloc[idx, 1]\n",
    "        if self.transform:\n",
    "            image = self.transform(image)\n",
    "        if self.target_transform:\n",
    "            label = self.target_transform(label)\n",
    "        sample = {\"image\": image, \"label\": label}\n",
    "        return sample"
   ]
  },
  {
   "cell_type": "markdown",
   "id": "legislative-chosen",
   "metadata": {},
   "source": [
    "## 4. 使用DataLoader载入数据"
   ]
  },
  {
   "cell_type": "code",
   "execution_count": 13,
   "id": "seven-maker",
   "metadata": {},
   "outputs": [
    {
     "name": "stdout",
     "output_type": "stream",
     "text": [
      "Feature batch shape: torch.Size([64, 1, 28, 28])\n",
      "Labels batch shape: torch.Size([64])\n"
     ]
    },
    {
     "data": {
      "image/png": "[encoded data removed]",
      "text/plain": [
       "<Figure size 432x288 with 1 Axes>"
      ]
     },
     "metadata": {
      "needs_background": "light"
     },
     "output_type": "display_data"
    },
    {
     "name": "stdout",
     "output_type": "stream",
     "text": [
      "Label: 9\n"
     ]
    }
   ],
   "source": [
    "train_dataloader = DataLoader(training_data, batch_size=64, shuffle = True)\n",
    "test_dataloader = DataLoader(testing_data, batch_size=16, shuffle = True)\n",
    "\n",
    "# Display image and label.\n",
    "train_features, train_labels = next(iter(train_dataloader))\n",
    "print(f\"Feature batch shape: {train_features.size()}\")\n",
    "print(f\"Labels batch shape: {train_labels.size()}\")\n",
    "img = train_features[0].squeeze()\n",
    "label = train_labels[0]\n",
    "plt.imshow(img, cmap=\"gray\")\n",
    "plt.show()\n",
    "print(f\"Label: {label}\")"
   ]
  }
 ],
 "metadata": {
  "kernelspec": {
   "display_name": "Python 3",
   "language": "python",
   "name": "python3"
  },
  "language_info": {
   "codemirror_mode": {
    "name": "ipython",
    "version": 3
   },
   "file_extension": ".py",
   "mimetype": "text/x-python",
   "name": "python",
   "nbconvert_exporter": "python",
   "pygments_lexer": "ipython3",
   "version": "3.8.8"
  }
 },
 "nbformat": 4,
 "nbformat_minor": 5
}
