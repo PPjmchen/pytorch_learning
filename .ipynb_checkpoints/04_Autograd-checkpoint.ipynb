{
 "cells": [
  {
   "cell_type": "markdown",
   "id": "plain-monthly",
   "metadata": {},
   "source": [
    "# 04. Automatic Differentiation with `torch.Autograd`\n",
    "\n"
   ]
  }
 ],
 "metadata": {
  "kernelspec": {
   "display_name": "Python 3",
   "language": "python",
   "name": "python3"
  },
  "language_info": {
   "codemirror_mode": {
    "name": "ipython",
    "version": 3
   },
   "file_extension": ".py",
   "mimetype": "text/x-python",
   "name": "python",
   "nbconvert_exporter": "python",
   "pygments_lexer": "ipython3",
   "version": "3.8.8"
  }
 },
 "nbformat": 4,
 "nbformat_minor": 5
}
